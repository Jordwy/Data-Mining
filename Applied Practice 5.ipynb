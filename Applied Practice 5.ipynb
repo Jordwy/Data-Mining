{
 "cells": [
  {
   "cell_type": "code",
   "execution_count": 8,
   "id": "960dee82",
   "metadata": {},
   "outputs": [],
   "source": [
    "import numpy as np\n",
    "import pandas as pd\n",
    "from sklearn.tree import DecisionTreeClassifier"
   ]
  },
  {
   "cell_type": "markdown",
   "id": "7616a33a",
   "metadata": {},
   "source": [
    "## Read data from CSV"
   ]
  },
  {
   "cell_type": "code",
   "execution_count": 9,
   "id": "1ecc2e5c",
   "metadata": {},
   "outputs": [],
   "source": [
    "df = pd.read_csv(r'https://raw.githubusercontent.com/Jordwy/Data-Mining/refs/heads/main/Applied%20Practice%205%20-%20Data.csv')"
   ]
  },
  {
   "cell_type": "markdown",
   "id": "e9156eb0",
   "metadata": {},
   "source": [
    "## Seperate Data into Features and Class labels "
   ]
  },
  {
   "cell_type": "code",
   "execution_count": 15,
   "id": "e3ee9df4",
   "metadata": {},
   "outputs": [],
   "source": [
    "def pre_process(df: pd.DataFrame):\n",
    "\n",
    "    # Seperate class from features\n",
    "    features = df.drop('edible', axis=1)\n",
    "    class_labels = df['edible']\n",
    "\n",
    "    # Shuffle data\n",
    "    features = features.sample(frac=1, random_state=1234)\n",
    "    class_labels = class_labels.sample(frac=1, random_state=1234)\n",
    "\n",
    "    # Seperate into test and train\n",
    "    n = int(features.shape[0] * 0.8) # get 80% index num\n",
    "    train_features, train_class_labels  = features.iloc[:n], class_labels.iloc[:n]\n",
    "    test_features,  test_class_labels   = features.iloc[n:], class_labels.iloc[n:]\n",
    "\n",
    "    return train_features, train_class_labels, test_features, test_class_labels\n",
    "\n",
    "\n"
   ]
  },
  {
   "cell_type": "markdown",
   "id": "e1451601",
   "metadata": {},
   "source": [
    "# Task 3 - Training a decision tree with Scikit-learn"
   ]
  },
  {
   "cell_type": "markdown",
   "id": "2814bdcc",
   "metadata": {},
   "source": [
    "**Exercise 1**: Create a function that takes dataframe as an input argument and converts all the\n",
    "columns with “object” datatype, into categorical series with appropriate codes. \n",
    "\n",
    "*Hint: To convert a column of “object” dtype with string values to integer values you need to first convert into an accessor object for categorical properties of the pandas Series values and then you can use the series category attributes such as “codes”.*\n"
   ]
  },
  {
   "cell_type": "code",
   "execution_count": 11,
   "id": "c9374c7a",
   "metadata": {},
   "outputs": [],
   "source": [
    "def col_convert(df:pd.DataFrame) -> pd.DataFrame:\n",
    "    '''Convert all columns of dtype 'object' into catagory codes (int)'''\n",
    "    \n",
    "    for col in df.columns:\n",
    "        if df[col].dtype == 'object':\n",
    "            df[col] = df[col].astype('category').cat.codes\n",
    "\n",
    "    return df"
   ]
  },
  {
   "cell_type": "code",
   "execution_count": 19,
   "id": "dc7070a9",
   "metadata": {},
   "outputs": [],
   "source": [
    "df = col_convert(df)\n",
    "train_features, train_class_labels, test_features, test_class_labels = pre_process(df)\n"
   ]
  },
  {
   "cell_type": "code",
   "execution_count": 20,
   "id": "15f86874",
   "metadata": {},
   "outputs": [
    {
     "data": {
      "application/vnd.microsoft.datawrangler.viewer.v0+json": {
       "columns": [
        {
         "name": "index",
         "rawType": "int64",
         "type": "integer"
        },
        {
         "name": "edible",
         "rawType": "int8",
         "type": "integer"
        }
       ],
       "ref": "97373d8c-702d-4b8a-a505-371bc7412cb7",
       "rows": [
        [
         "362",
         "0"
        ],
        [
         "1024",
         "1"
        ],
        [
         "2272",
         "0"
        ],
        [
         "3302",
         "0"
        ],
        [
         "90",
         "0"
        ],
        [
         "3533",
         "1"
        ],
        [
         "4342",
         "1"
        ],
        [
         "148",
         "0"
        ],
        [
         "3006",
         "0"
        ],
        [
         "7517",
         "1"
        ],
        [
         "4640",
         "1"
        ],
        [
         "4893",
         "1"
        ],
        [
         "4928",
         "1"
        ],
        [
         "3872",
         "1"
        ],
        [
         "4020",
         "1"
        ],
        [
         "3962",
         "1"
        ],
        [
         "5077",
         "1"
        ],
        [
         "2547",
         "0"
        ],
        [
         "7211",
         "0"
        ],
        [
         "6",
         "0"
        ],
        [
         "1777",
         "1"
        ],
        [
         "5673",
         "1"
        ],
        [
         "6066",
         "1"
        ],
        [
         "580",
         "0"
        ],
        [
         "1929",
         "0"
        ],
        [
         "6492",
         "1"
        ],
        [
         "714",
         "0"
        ],
        [
         "7379",
         "1"
        ],
        [
         "7890",
         "0"
        ],
        [
         "1251",
         "0"
        ],
        [
         "5444",
         "1"
        ],
        [
         "1181",
         "0"
        ],
        [
         "7898",
         "0"
        ],
        [
         "3203",
         "0"
        ],
        [
         "364",
         "0"
        ],
        [
         "5733",
         "0"
        ],
        [
         "4049",
         "1"
        ],
        [
         "4900",
         "1"
        ],
        [
         "4840",
         "1"
        ],
        [
         "2593",
         "0"
        ],
        [
         "1190",
         "0"
        ],
        [
         "2540",
         "1"
        ],
        [
         "6872",
         "1"
        ],
        [
         "3868",
         "1"
        ],
        [
         "4703",
         "1"
        ],
        [
         "2078",
         "0"
        ],
        [
         "6881",
         "1"
        ],
        [
         "2055",
         "0"
        ],
        [
         "4007",
         "1"
        ],
        [
         "2865",
         "0"
        ]
       ],
       "shape": {
        "columns": 1,
        "rows": 6499
       }
      },
      "text/plain": [
       "362     0\n",
       "1024    1\n",
       "2272    0\n",
       "3302    0\n",
       "90      0\n",
       "       ..\n",
       "3624    0\n",
       "7748    0\n",
       "8023    1\n",
       "1563    0\n",
       "4229    1\n",
       "Name: edible, Length: 6499, dtype: int8"
      ]
     },
     "execution_count": 20,
     "metadata": {},
     "output_type": "execute_result"
    }
   ],
   "source": [
    "train_class_labels"
   ]
  },
  {
   "cell_type": "code",
   "execution_count": null,
   "id": "0bd2d466",
   "metadata": {},
   "outputs": [],
   "source": []
  }
 ],
 "metadata": {
  "kernelspec": {
   "display_name": ".venv (3.13.7)",
   "language": "python",
   "name": "python3"
  },
  "language_info": {
   "codemirror_mode": {
    "name": "ipython",
    "version": 3
   },
   "file_extension": ".py",
   "mimetype": "text/x-python",
   "name": "python",
   "nbconvert_exporter": "python",
   "pygments_lexer": "ipython3",
   "version": "3.13.7"
  }
 },
 "nbformat": 4,
 "nbformat_minor": 5
}
