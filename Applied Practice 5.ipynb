{
 "cells": [
  {
   "cell_type": "code",
   "execution_count": 1,
   "id": "960dee82",
   "metadata": {},
   "outputs": [],
   "source": [
    "import numpy as np\n",
    "import pandas as pd\n",
    "from sklearn.tree import DecisionTreeClassifier"
   ]
  },
  {
   "cell_type": "markdown",
   "id": "7616a33a",
   "metadata": {},
   "source": [
    "## Read data from CSV"
   ]
  },
  {
   "cell_type": "code",
   "execution_count": null,
   "id": "1ecc2e5c",
   "metadata": {},
   "outputs": [],
   "source": [
    "\n",
    "df = pd.read_csv('Applied Practice 5 - Data.csv')"
   ]
  },
  {
   "cell_type": "markdown",
   "id": "e9156eb0",
   "metadata": {},
   "source": [
    "## Seperate Data into Features and Class labels "
   ]
  },
  {
   "cell_type": "code",
   "execution_count": null,
   "id": "e3ee9df4",
   "metadata": {},
   "outputs": [],
   "source": [
    "def pre_process(df: pd.DataFrame) -> pd.DataFrame:\n",
    "\n",
    "    # Seperate class from features\n",
    "    features = df.drop('edible', axis=1)\n",
    "    class_labels = df['edible']\n",
    "\n",
    "    # Shuffle data\n",
    "    features = features.sample(frac=1, random_state=1234)\n",
    "    class_labels = class_labels.sample(frac=1, random_state=1234)\n",
    "\n",
    "    # Seperate into test and train\n",
    "    n = int(features.shape[0] * 0.8) # get 80% index num\n",
    "    train_features, train_class_labels  = features.iloc[:n], class_labels.iloc[:n]\n",
    "    test_features,  test_class_labels   = features.iloc[n:], class_labels.iloc[n:]\n",
    "\n",
    "    return df\n",
    "\n",
    "\n"
   ]
  },
  {
   "cell_type": "code",
   "execution_count": 5,
   "id": "94aa3d86",
   "metadata": {},
   "outputs": [],
   "source": [
    "features = df.drop('edible', axis=1)\n",
    "class_labels = df['edible']"
   ]
  },
  {
   "cell_type": "markdown",
   "id": "d70add76",
   "metadata": {},
   "source": [
    "## Reshuffle data\n",
    "Using `df.sample(frac=1, random_state=1234)`"
   ]
  },
  {
   "cell_type": "markdown",
   "id": "269ef60d",
   "metadata": {},
   "source": [
    "## Seperate data into Test and Train\n",
    "split by 80/20"
   ]
  },
  {
   "cell_type": "code",
   "execution_count": null,
   "id": "09e43d90",
   "metadata": {},
   "outputs": [],
   "source": [
    "train_rows_n = int(features.shape[0] * 0.8) # get 80% index num\n"
   ]
  },
  {
   "cell_type": "code",
   "execution_count": 8,
   "id": "a744f3ec",
   "metadata": {},
   "outputs": [],
   "source": [
    "# Extract data into training and test features and labels\n",
    "\n",
    "train_features, train_class_labels  = features.iloc[:train_rows_n], class_labels.iloc[:train_rows_n]\n",
    "test_features,  test_class_labels   = features.iloc[train_rows_n:], class_labels.iloc[train_rows_n:]"
   ]
  },
  {
   "cell_type": "markdown",
   "id": "e1451601",
   "metadata": {},
   "source": [
    "# Task 3 - Training a decision tree with Scikit-learn"
   ]
  },
  {
   "cell_type": "markdown",
   "id": "2814bdcc",
   "metadata": {},
   "source": [
    "**Exercise 1**: Create a function that takes dataframe as an input argument and converts all the\n",
    "columns with “object” datatype, into categorical series with appropriate codes. \n",
    "\n",
    "*Hint: To convert a column of “object” dtype with string values to integer values you need to first convert into an accessor object for categorical properties of the pandas Series values and then you can use the series category attributes such as “codes”.*\n"
   ]
  },
  {
   "cell_type": "code",
   "execution_count": 2,
   "id": "c9374c7a",
   "metadata": {},
   "outputs": [],
   "source": [
    "def col_convert(df:pd.DataFrame) -> pd.DataFrame:\n",
    "    '''Convert all columns of dtype 'object' into catagory codes (int)'''\n",
    "    \n",
    "    for col in df.columns:\n",
    "        if df[col].dtype == 'object':\n",
    "            df[col] = df[col].astype('category').cat.codes\n",
    "\n",
    "    return df"
   ]
  },
  {
   "cell_type": "code",
   "execution_count": 12,
   "id": "dc7070a9",
   "metadata": {},
   "outputs": [],
   "source": [
    "df = col_convert(df)\n"
   ]
  },
  {
   "cell_type": "code",
   "execution_count": null,
   "id": "15f86874",
   "metadata": {},
   "outputs": [],
   "source": []
  }
 ],
 "metadata": {
  "kernelspec": {
   "display_name": ".venv (3.12.2)",
   "language": "python",
   "name": "python3"
  },
  "language_info": {
   "codemirror_mode": {
    "name": "ipython",
    "version": 3
   },
   "file_extension": ".py",
   "mimetype": "text/x-python",
   "name": "python",
   "nbconvert_exporter": "python",
   "pygments_lexer": "ipython3",
   "version": "3.12.2"
  }
 },
 "nbformat": 4,
 "nbformat_minor": 5
}
